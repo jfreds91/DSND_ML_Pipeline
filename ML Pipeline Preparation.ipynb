{
 "cells": [
  {
   "cell_type": "markdown",
   "metadata": {},
   "source": [
    "# ML Pipeline Preparation\n",
    "Follow the instructions below to help you create your ML pipeline.\n",
    "### 1. Import libraries and load data from database.\n",
    "- Import Python libraries\n",
    "- Load dataset from database with [`read_sql_table`](https://pandas.pydata.org/pandas-docs/stable/generated/pandas.read_sql_table.html)\n",
    "- Define feature and target variables X and Y"
   ]
  },
  {
   "cell_type": "code",
   "execution_count": 50,
   "metadata": {},
   "outputs": [
    {
     "name": "stdout",
     "output_type": "stream",
     "text": [
      "[nltk_data] Downloading package punkt to /root/nltk_data...\n",
      "[nltk_data]   Package punkt is already up-to-date!\n",
      "[nltk_data] Downloading package wordnet to /root/nltk_data...\n",
      "[nltk_data]   Package wordnet is already up-to-date!\n",
      "[nltk_data] Downloading package stopwords to /root/nltk_data...\n",
      "[nltk_data]   Package stopwords is already up-to-date!\n"
     ]
    },
    {
     "data": {
      "text/plain": [
       "True"
      ]
     },
     "execution_count": 50,
     "metadata": {},
     "output_type": "execute_result"
    }
   ],
   "source": [
    "# import libraries\n",
    "from sqlalchemy import create_engine\n",
    "\n",
    "import pandas as pd\n",
    "\n",
    "from sklearn.pipeline import Pipeline\n",
    "from sklearn.ensemble import RandomForestClassifier\n",
    "from sklearn.multioutput import MultiOutputClassifier\n",
    "from sklearn.model_selection import train_test_split\n",
    "from sklearn.metrics import classification_report\n",
    "from sklearn.model_selection import GridSearchCV\n",
    "from sklearn.svm import SVC\n",
    "from sklearn.ensemble import AdaBoostClassifier\n",
    "\n",
    "from nltk import word_tokenize\n",
    "from nltk.stem.wordnet import WordNetLemmatizer\n",
    "\n",
    "from sklearn.feature_extraction.text import CountVectorizer\n",
    "from sklearn.feature_extraction.text import TfidfTransformer\n",
    "\n",
    "import nltk\n",
    "nltk.download('punkt')\n",
    "nltk.download('wordnet')\n",
    "nltk.download('stopwords')\n",
    "\n",
    "import pickle"
   ]
  },
  {
   "cell_type": "code",
   "execution_count": 52,
   "metadata": {},
   "outputs": [
    {
     "data": {
      "text/plain": [
       "Index(['id', 'message', 'original', 'genre', 'related', 'request', 'offer',\n",
       "       'aid_related', 'medical_help', 'medical_products', 'search_and_rescue',\n",
       "       'security', 'military', 'child_alone', 'water', 'food', 'shelter',\n",
       "       'clothing', 'money', 'missing_people', 'refugees', 'death', 'other_aid',\n",
       "       'infrastructure_related', 'transport', 'buildings', 'electricity',\n",
       "       'tools', 'hospitals', 'shops', 'aid_centers', 'other_infrastructure',\n",
       "       'weather_related', 'floods', 'storm', 'fire', 'earthquake', 'cold',\n",
       "       'other_weather', 'direct_report'],\n",
       "      dtype='object')"
      ]
     },
     "execution_count": 52,
     "metadata": {},
     "output_type": "execute_result"
    }
   ],
   "source": [
    "# load data from database\n",
    "engine = create_engine('sqlite:///InsertDatabaseName.db')\n",
    "df = pd.read_sql_table('InsertTableName', con = engine)\n",
    "\n",
    "predict_cols = ['request', 'offer',\n",
    "       'aid_related', 'medical_help', 'medical_products', 'search_and_rescue',\n",
    "       'security', 'military', 'child_alone', 'water', 'food', 'shelter',\n",
    "       'clothing', 'money', 'missing_people', 'refugees', 'death', 'other_aid',\n",
    "       'infrastructure_related', 'transport', 'buildings', 'electricity',\n",
    "       'tools', 'hospitals', 'shops', 'aid_centers', 'other_infrastructure',\n",
    "       'weather_related', 'floods', 'storm', 'fire', 'earthquake', 'cold',\n",
    "       'other_weather', 'direct_report']\n",
    "X = df['message']\n",
    "y = df[predict_cols]\n",
    "df.columns"
   ]
  },
  {
   "cell_type": "markdown",
   "metadata": {},
   "source": [
    "### 2. Write a tokenization function to process your text data"
   ]
  },
  {
   "cell_type": "code",
   "execution_count": 53,
   "metadata": {},
   "outputs": [],
   "source": [
    "def tokenize(text):\n",
    "    tokens = word_tokenize(text)\n",
    "    lemm = WordNetLemmatizer()\n",
    "    \n",
    "    clean_tokens = []\n",
    "    for tok in tokens:\n",
    "        clean_tok = lemm.lemmatize(tok).lower().strip()\n",
    "        clean_tokens.append(clean_tok)\n",
    "    return clean_tokens"
   ]
  },
  {
   "cell_type": "markdown",
   "metadata": {},
   "source": [
    "### 3. Build a machine learning pipeline\n",
    "This machine pipeline should take in the `message` column as input and output classification results on the other 36 categories in the dataset. You may find the [MultiOutputClassifier](http://scikit-learn.org/stable/modules/generated/sklearn.multioutput.MultiOutputClassifier.html) helpful for predicting multiple target variables."
   ]
  },
  {
   "cell_type": "code",
   "execution_count": 54,
   "metadata": {},
   "outputs": [],
   "source": [
    "pipeline = Pipeline([\n",
    "    ('vect', CountVectorizer(tokenizer = tokenize)),\n",
    "    ('tfidf', TfidfTransformer()),\n",
    "    #('clf', MultiOutputClassifier(RandomForestClassifier()))\n",
    "    #('clf', MultiOutputClassifier(SVC()))\n",
    "    ('clf', MultiOutputClassifier(AdaBoostClassifier()))\n",
    "])"
   ]
  },
  {
   "cell_type": "markdown",
   "metadata": {},
   "source": [
    "### 4. Train pipeline\n",
    "- Split data into train and test sets\n",
    "- Train pipeline"
   ]
  },
  {
   "cell_type": "code",
   "execution_count": 55,
   "metadata": {},
   "outputs": [],
   "source": [
    "X_train, X_test, y_train, y_test = train_test_split(X, y, test_size=0.33, random_state=42)"
   ]
  },
  {
   "cell_type": "code",
   "execution_count": 56,
   "metadata": {},
   "outputs": [
    {
     "data": {
      "text/plain": [
       "request                   2944.0\n",
       "offer                       72.0\n",
       "aid_related               7224.0\n",
       "medical_help              1369.0\n",
       "medical_products           875.0\n",
       "search_and_rescue          478.0\n",
       "security                   309.0\n",
       "military                   582.0\n",
       "child_alone                  0.0\n",
       "water                     1101.0\n",
       "food                      1917.0\n",
       "shelter                   1543.0\n",
       "clothing                   259.0\n",
       "money                      393.0\n",
       "missing_people             201.0\n",
       "refugees                   570.0\n",
       "death                      789.0\n",
       "other_aid                 2324.0\n",
       "infrastructure_related    1161.0\n",
       "transport                  809.0\n",
       "buildings                  876.0\n",
       "electricity                350.0\n",
       "tools                      103.0\n",
       "hospitals                  187.0\n",
       "shops                       75.0\n",
       "aid_centers                210.0\n",
       "other_infrastructure       789.0\n",
       "weather_related           4849.0\n",
       "floods                    1424.0\n",
       "storm                     1644.0\n",
       "fire                       180.0\n",
       "earthquake                1625.0\n",
       "cold                       328.0\n",
       "other_weather              903.0\n",
       "direct_report             3350.0\n",
       "dtype: float64"
      ]
     },
     "execution_count": 56,
     "metadata": {},
     "output_type": "execute_result"
    }
   ],
   "source": [
    "y_train.sum()"
   ]
  },
  {
   "cell_type": "code",
   "execution_count": 57,
   "metadata": {},
   "outputs": [],
   "source": [
    "# some classifiers cannot handle categories with 0 entries\n",
    "# enable if using SVC\n",
    "if False:\n",
    "    y_train.drop(columns = ['child_alone'], inplace = True)\n",
    "    y_test.drop(columns = ['child_alone'], inplace = True)\n",
    "    # will also have to remove item from predict_cols otherwise classification_report will fail"
   ]
  },
  {
   "cell_type": "code",
   "execution_count": 58,
   "metadata": {},
   "outputs": [
    {
     "data": {
      "text/plain": [
       "(17448, 35)"
      ]
     },
     "execution_count": 58,
     "metadata": {},
     "output_type": "execute_result"
    }
   ],
   "source": [
    "y_train.shape"
   ]
  },
  {
   "cell_type": "code",
   "execution_count": 59,
   "metadata": {},
   "outputs": [
    {
     "data": {
      "text/plain": [
       "Pipeline(memory=None,\n",
       "     steps=[('vect', CountVectorizer(analyzer='word', binary=False, decode_error='strict',\n",
       "        dtype=<class 'numpy.int64'>, encoding='utf-8', input='content',\n",
       "        lowercase=True, max_df=1.0, max_features=None, min_df=1,\n",
       "        ngram_range=(1, 1), preprocessor=None, stop_words=None,\n",
       "        strip...mator=None,\n",
       "          learning_rate=1.0, n_estimators=50, random_state=None),\n",
       "           n_jobs=1))])"
      ]
     },
     "execution_count": 59,
     "metadata": {},
     "output_type": "execute_result"
    }
   ],
   "source": [
    "pipeline.fit(X_train, y_train)"
   ]
  },
  {
   "cell_type": "markdown",
   "metadata": {},
   "source": [
    "### 5. Test your model\n",
    "Report the f1 score, precision and recall for each output category of the dataset. You can do this by iterating through the columns and calling sklearn's `classification_report` on each."
   ]
  },
  {
   "cell_type": "code",
   "execution_count": 60,
   "metadata": {},
   "outputs": [],
   "source": [
    "y_preds = pipeline.predict(X_test)"
   ]
  },
  {
   "cell_type": "code",
   "execution_count": 61,
   "metadata": {},
   "outputs": [
    {
     "name": "stdout",
     "output_type": "stream",
     "text": [
      "             precision    recall  f1-score   support\n",
      "\n",
      "          0       0.43      0.12      0.19      1495\n",
      "          1       0.00      0.00      0.00        46\n",
      "          2       0.46      0.14      0.22      3563\n",
      "          3       0.00      0.00      0.00       702\n",
      "          4       0.00      0.00      0.00       425\n",
      "          5       0.00      0.00      0.00       245\n",
      "          6       0.00      0.00      0.00       160\n",
      "          7       0.00      0.00      0.00       272\n",
      "          8       0.00      0.00      0.00         0\n",
      "          9       0.00      0.00      0.00       555\n",
      "         10       0.13      0.01      0.01       989\n",
      "         11       0.07      0.00      0.00       752\n",
      "         12       0.17      0.02      0.04       140\n",
      "         13       0.00      0.00      0.00       208\n",
      "         14       0.00      0.00      0.00        97\n",
      "         15       0.00      0.00      0.00       299\n",
      "         16       0.00      0.00      0.00       397\n",
      "         17       0.12      0.00      0.01      1101\n",
      "         18       0.08      0.00      0.00       534\n",
      "         19       0.17      0.01      0.01       384\n",
      "         20       0.00      0.00      0.00       449\n",
      "         21       0.00      0.00      0.00       179\n",
      "         22       0.00      0.00      0.00        55\n",
      "         23       0.14      0.01      0.02        94\n",
      "         24       0.00      0.00      0.00        44\n",
      "         25       0.00      0.00      0.00        96\n",
      "         26       0.20      0.00      0.01       356\n",
      "         27       0.61      0.19      0.29      2402\n",
      "         28       0.22      0.00      0.01       722\n",
      "         29       0.44      0.10      0.17       789\n",
      "         30       0.20      0.01      0.02       100\n",
      "         31       0.72      0.16      0.27       816\n",
      "         32       0.00      0.00      0.00       192\n",
      "         33       0.00      0.00      0.00       459\n",
      "         34       0.42      0.10      0.17      1684\n",
      "\n",
      "avg / total       0.29      0.08      0.12     20801\n",
      "\n"
     ]
    },
    {
     "name": "stderr",
     "output_type": "stream",
     "text": [
      "/opt/conda/lib/python3.6/site-packages/sklearn/metrics/classification.py:1135: UndefinedMetricWarning: Precision and F-score are ill-defined and being set to 0.0 in labels with no predicted samples.\n",
      "  'precision', 'predicted', average, warn_for)\n",
      "/opt/conda/lib/python3.6/site-packages/sklearn/metrics/classification.py:1137: UndefinedMetricWarning: Recall and F-score are ill-defined and being set to 0.0 in labels with no true samples.\n",
      "  'recall', 'true', average, warn_for)\n"
     ]
    }
   ],
   "source": [
    "print(classification_report(y_test, y_preds, labels=predict_cols))"
   ]
  },
  {
   "cell_type": "markdown",
   "metadata": {},
   "source": [
    "### 6. Improve your model\n",
    "Use grid search to find better parameters. "
   ]
  },
  {
   "cell_type": "code",
   "execution_count": 62,
   "metadata": {},
   "outputs": [
    {
     "data": {
      "text/plain": [
       "{'memory': None,\n",
       " 'steps': [('vect',\n",
       "   CountVectorizer(analyzer='word', binary=False, decode_error='strict',\n",
       "           dtype=<class 'numpy.int64'>, encoding='utf-8', input='content',\n",
       "           lowercase=True, max_df=1.0, max_features=None, min_df=1,\n",
       "           ngram_range=(1, 1), preprocessor=None, stop_words=None,\n",
       "           strip_accents=None, token_pattern='(?u)\\\\b\\\\w\\\\w+\\\\b',\n",
       "           tokenizer=<function tokenize at 0x7f91fc371048>, vocabulary=None)),\n",
       "  ('tfidf',\n",
       "   TfidfTransformer(norm='l2', smooth_idf=True, sublinear_tf=False, use_idf=True)),\n",
       "  ('clf',\n",
       "   MultiOutputClassifier(estimator=AdaBoostClassifier(algorithm='SAMME.R', base_estimator=None,\n",
       "             learning_rate=1.0, n_estimators=50, random_state=None),\n",
       "              n_jobs=1))],\n",
       " 'vect': CountVectorizer(analyzer='word', binary=False, decode_error='strict',\n",
       "         dtype=<class 'numpy.int64'>, encoding='utf-8', input='content',\n",
       "         lowercase=True, max_df=1.0, max_features=None, min_df=1,\n",
       "         ngram_range=(1, 1), preprocessor=None, stop_words=None,\n",
       "         strip_accents=None, token_pattern='(?u)\\\\b\\\\w\\\\w+\\\\b',\n",
       "         tokenizer=<function tokenize at 0x7f91fc371048>, vocabulary=None),\n",
       " 'tfidf': TfidfTransformer(norm='l2', smooth_idf=True, sublinear_tf=False, use_idf=True),\n",
       " 'clf': MultiOutputClassifier(estimator=AdaBoostClassifier(algorithm='SAMME.R', base_estimator=None,\n",
       "           learning_rate=1.0, n_estimators=50, random_state=None),\n",
       "            n_jobs=1),\n",
       " 'vect__analyzer': 'word',\n",
       " 'vect__binary': False,\n",
       " 'vect__decode_error': 'strict',\n",
       " 'vect__dtype': numpy.int64,\n",
       " 'vect__encoding': 'utf-8',\n",
       " 'vect__input': 'content',\n",
       " 'vect__lowercase': True,\n",
       " 'vect__max_df': 1.0,\n",
       " 'vect__max_features': None,\n",
       " 'vect__min_df': 1,\n",
       " 'vect__ngram_range': (1, 1),\n",
       " 'vect__preprocessor': None,\n",
       " 'vect__stop_words': None,\n",
       " 'vect__strip_accents': None,\n",
       " 'vect__token_pattern': '(?u)\\\\b\\\\w\\\\w+\\\\b',\n",
       " 'vect__tokenizer': <function __main__.tokenize(text)>,\n",
       " 'vect__vocabulary': None,\n",
       " 'tfidf__norm': 'l2',\n",
       " 'tfidf__smooth_idf': True,\n",
       " 'tfidf__sublinear_tf': False,\n",
       " 'tfidf__use_idf': True,\n",
       " 'clf__estimator__algorithm': 'SAMME.R',\n",
       " 'clf__estimator__base_estimator': None,\n",
       " 'clf__estimator__learning_rate': 1.0,\n",
       " 'clf__estimator__n_estimators': 50,\n",
       " 'clf__estimator__random_state': None,\n",
       " 'clf__estimator': AdaBoostClassifier(algorithm='SAMME.R', base_estimator=None,\n",
       "           learning_rate=1.0, n_estimators=50, random_state=None),\n",
       " 'clf__n_jobs': 1}"
      ]
     },
     "execution_count": 62,
     "metadata": {},
     "output_type": "execute_result"
    }
   ],
   "source": [
    "pipeline.get_params()"
   ]
  },
  {
   "cell_type": "code",
   "execution_count": 63,
   "metadata": {},
   "outputs": [
    {
     "name": "stdout",
     "output_type": "stream",
     "text": [
      "Fitting 3 folds for each of 8 candidates, totalling 24 fits\n",
      "[CV] clf__estimator__learning_rate=0.5, vect__stop_words=None ........\n",
      "[CV]  clf__estimator__learning_rate=0.5, vect__stop_words=None, score=0.38995873452544705, total= 1.6min\n",
      "[CV] clf__estimator__learning_rate=0.5, vect__stop_words=None ........\n"
     ]
    },
    {
     "name": "stderr",
     "output_type": "stream",
     "text": [
      "[Parallel(n_jobs=1)]: Done   1 out of   1 | elapsed:  1.8min remaining:    0.0s\n"
     ]
    },
    {
     "name": "stdout",
     "output_type": "stream",
     "text": [
      "[CV]  clf__estimator__learning_rate=0.5, vect__stop_words=None, score=0.3786107290233838, total= 1.6min\n",
      "[CV] clf__estimator__learning_rate=0.5, vect__stop_words=None ........\n"
     ]
    },
    {
     "name": "stderr",
     "output_type": "stream",
     "text": [
      "[Parallel(n_jobs=1)]: Done   2 out of   2 | elapsed:  3.6min remaining:    0.0s\n"
     ]
    },
    {
     "name": "stdout",
     "output_type": "stream",
     "text": [
      "[CV]  clf__estimator__learning_rate=0.5, vect__stop_words=None, score=0.39322558459422285, total= 1.6min\n",
      "[CV] clf__estimator__learning_rate=0.5, vect__stop_words={\"don't\", 'was', 'very', \"haven't\", 'no', 'ma', 'how', 'myself', \"shan't\", 'weren', 'won', 'herself', \"hadn't\", 'him', \"you'd\", 'haven', 'isn', 'he', 'ourselves', 'are', 'after', 'being', \"wasn't\", 'his', 'who', 'her', 'll', 'here', 'before', 'so', 'their', 'when', 'if', 'further', 'whom', 'it', 'will', 'into', \"couldn't\", 'at', 'shouldn', 'she', \"doesn't\", 'now', 'my', 'mightn', 'didn', \"mustn't\", 'each', 'than', 'don', 'wouldn', \"it's\", 'been', \"needn't\", 'had', 'those', 'until', 'which', 'that', \"that'll\", 'up', 'through', 'or', 'between', 'the', \"aren't\", 'during', \"isn't\", 'm', 'its', 'more', \"weren't\", 'some', 'with', 'an', 'most', 'themselves', 'y', 'ain', 'me', 'from', 'hers', 'what', 'again', 'both', 'about', \"she's\", 'yours', \"hasn't\", 'have', 'as', 'then', 'there', 'your', 'only', 'same', 'mustn', 'doing', 'needn', 'above', 'wasn', 'itself', 'for', 'under', 'o', \"shouldn't\", 'down', \"won't\", 'couldn', 'did', 'other', \"you've\", 'to', 'yourselves', 'shan', 'hasn', 'can', 'of', 'against', 'not', \"wouldn't\", 'but', 'these', 've', 'hadn', 'our', 'and', 'once', 'is', 're', \"mightn't\", 'do', 'in', 'this', 'out', 'below', 'why', 'we', 'all', 'does', 'because', 'on', 'doesn', 'd', 'be', 'i', 'aren', 'too', 'any', 'nor', 'such', \"you're\", 'by', 's', \"should've\", 'himself', 'they', 'yourself', 'were', 'own', \"you'll\", 'over', 'theirs', 'off', 'just', 'you', 'having', 'where', 'few', 'should', 'a', 'has', 'while', 'ours', 't', 'them', 'am', \"didn't\"} \n"
     ]
    },
    {
     "name": "stderr",
     "output_type": "stream",
     "text": [
      "[Parallel(n_jobs=1)]: Done   3 out of   3 | elapsed:  5.4min remaining:    0.0s\n"
     ]
    },
    {
     "name": "stdout",
     "output_type": "stream",
     "text": [
      "[CV]  clf__estimator__learning_rate=0.5, vect__stop_words={\"don't\", 'was', 'very', \"haven't\", 'no', 'ma', 'how', 'myself', \"shan't\", 'weren', 'won', 'herself', \"hadn't\", 'him', \"you'd\", 'haven', 'isn', 'he', 'ourselves', 'are', 'after', 'being', \"wasn't\", 'his', 'who', 'her', 'll', 'here', 'before', 'so', 'their', 'when', 'if', 'further', 'whom', 'it', 'will', 'into', \"couldn't\", 'at', 'shouldn', 'she', \"doesn't\", 'now', 'my', 'mightn', 'didn', \"mustn't\", 'each', 'than', 'don', 'wouldn', \"it's\", 'been', \"needn't\", 'had', 'those', 'until', 'which', 'that', \"that'll\", 'up', 'through', 'or', 'between', 'the', \"aren't\", 'during', \"isn't\", 'm', 'its', 'more', \"weren't\", 'some', 'with', 'an', 'most', 'themselves', 'y', 'ain', 'me', 'from', 'hers', 'what', 'again', 'both', 'about', \"she's\", 'yours', \"hasn't\", 'have', 'as', 'then', 'there', 'your', 'only', 'same', 'mustn', 'doing', 'needn', 'above', 'wasn', 'itself', 'for', 'under', 'o', \"shouldn't\", 'down', \"won't\", 'couldn', 'did', 'other', \"you've\", 'to', 'yourselves', 'shan', 'hasn', 'can', 'of', 'against', 'not', \"wouldn't\", 'but', 'these', 've', 'hadn', 'our', 'and', 'once', 'is', 're', \"mightn't\", 'do', 'in', 'this', 'out', 'below', 'why', 'we', 'all', 'does', 'because', 'on', 'doesn', 'd', 'be', 'i', 'aren', 'too', 'any', 'nor', 'such', \"you're\", 'by', 's', \"should've\", 'himself', 'they', 'yourself', 'were', 'own', \"you'll\", 'over', 'theirs', 'off', 'just', 'you', 'having', 'where', 'few', 'should', 'a', 'has', 'while', 'ours', 't', 'them', 'am', \"didn't\"}, score=0.38394085281980744, total= 1.2min\n",
      "[CV] clf__estimator__learning_rate=0.5, vect__stop_words={\"don't\", 'was', 'very', \"haven't\", 'no', 'ma', 'how', 'myself', \"shan't\", 'weren', 'won', 'herself', \"hadn't\", 'him', \"you'd\", 'haven', 'isn', 'he', 'ourselves', 'are', 'after', 'being', \"wasn't\", 'his', 'who', 'her', 'll', 'here', 'before', 'so', 'their', 'when', 'if', 'further', 'whom', 'it', 'will', 'into', \"couldn't\", 'at', 'shouldn', 'she', \"doesn't\", 'now', 'my', 'mightn', 'didn', \"mustn't\", 'each', 'than', 'don', 'wouldn', \"it's\", 'been', \"needn't\", 'had', 'those', 'until', 'which', 'that', \"that'll\", 'up', 'through', 'or', 'between', 'the', \"aren't\", 'during', \"isn't\", 'm', 'its', 'more', \"weren't\", 'some', 'with', 'an', 'most', 'themselves', 'y', 'ain', 'me', 'from', 'hers', 'what', 'again', 'both', 'about', \"she's\", 'yours', \"hasn't\", 'have', 'as', 'then', 'there', 'your', 'only', 'same', 'mustn', 'doing', 'needn', 'above', 'wasn', 'itself', 'for', 'under', 'o', \"shouldn't\", 'down', \"won't\", 'couldn', 'did', 'other', \"you've\", 'to', 'yourselves', 'shan', 'hasn', 'can', 'of', 'against', 'not', \"wouldn't\", 'but', 'these', 've', 'hadn', 'our', 'and', 'once', 'is', 're', \"mightn't\", 'do', 'in', 'this', 'out', 'below', 'why', 'we', 'all', 'does', 'because', 'on', 'doesn', 'd', 'be', 'i', 'aren', 'too', 'any', 'nor', 'such', \"you're\", 'by', 's', \"should've\", 'himself', 'they', 'yourself', 'were', 'own', \"you'll\", 'over', 'theirs', 'off', 'just', 'you', 'having', 'where', 'few', 'should', 'a', 'has', 'while', 'ours', 't', 'them', 'am', \"didn't\"} \n"
     ]
    },
    {
     "name": "stderr",
     "output_type": "stream",
     "text": [
      "[Parallel(n_jobs=1)]: Done   4 out of   4 | elapsed:  6.7min remaining:    0.0s\n"
     ]
    },
    {
     "name": "stdout",
     "output_type": "stream",
     "text": [
      "[CV]  clf__estimator__learning_rate=0.5, vect__stop_words={\"don't\", 'was', 'very', \"haven't\", 'no', 'ma', 'how', 'myself', \"shan't\", 'weren', 'won', 'herself', \"hadn't\", 'him', \"you'd\", 'haven', 'isn', 'he', 'ourselves', 'are', 'after', 'being', \"wasn't\", 'his', 'who', 'her', 'll', 'here', 'before', 'so', 'their', 'when', 'if', 'further', 'whom', 'it', 'will', 'into', \"couldn't\", 'at', 'shouldn', 'she', \"doesn't\", 'now', 'my', 'mightn', 'didn', \"mustn't\", 'each', 'than', 'don', 'wouldn', \"it's\", 'been', \"needn't\", 'had', 'those', 'until', 'which', 'that', \"that'll\", 'up', 'through', 'or', 'between', 'the', \"aren't\", 'during', \"isn't\", 'm', 'its', 'more', \"weren't\", 'some', 'with', 'an', 'most', 'themselves', 'y', 'ain', 'me', 'from', 'hers', 'what', 'again', 'both', 'about', \"she's\", 'yours', \"hasn't\", 'have', 'as', 'then', 'there', 'your', 'only', 'same', 'mustn', 'doing', 'needn', 'above', 'wasn', 'itself', 'for', 'under', 'o', \"shouldn't\", 'down', \"won't\", 'couldn', 'did', 'other', \"you've\", 'to', 'yourselves', 'shan', 'hasn', 'can', 'of', 'against', 'not', \"wouldn't\", 'but', 'these', 've', 'hadn', 'our', 'and', 'once', 'is', 're', \"mightn't\", 'do', 'in', 'this', 'out', 'below', 'why', 'we', 'all', 'does', 'because', 'on', 'doesn', 'd', 'be', 'i', 'aren', 'too', 'any', 'nor', 'such', \"you're\", 'by', 's', \"should've\", 'himself', 'they', 'yourself', 'were', 'own', \"you'll\", 'over', 'theirs', 'off', 'just', 'you', 'having', 'where', 'few', 'should', 'a', 'has', 'while', 'ours', 't', 'them', 'am', \"didn't\"}, score=0.38394085281980744, total= 1.2min\n",
      "[CV] clf__estimator__learning_rate=0.5, vect__stop_words={\"don't\", 'was', 'very', \"haven't\", 'no', 'ma', 'how', 'myself', \"shan't\", 'weren', 'won', 'herself', \"hadn't\", 'him', \"you'd\", 'haven', 'isn', 'he', 'ourselves', 'are', 'after', 'being', \"wasn't\", 'his', 'who', 'her', 'll', 'here', 'before', 'so', 'their', 'when', 'if', 'further', 'whom', 'it', 'will', 'into', \"couldn't\", 'at', 'shouldn', 'she', \"doesn't\", 'now', 'my', 'mightn', 'didn', \"mustn't\", 'each', 'than', 'don', 'wouldn', \"it's\", 'been', \"needn't\", 'had', 'those', 'until', 'which', 'that', \"that'll\", 'up', 'through', 'or', 'between', 'the', \"aren't\", 'during', \"isn't\", 'm', 'its', 'more', \"weren't\", 'some', 'with', 'an', 'most', 'themselves', 'y', 'ain', 'me', 'from', 'hers', 'what', 'again', 'both', 'about', \"she's\", 'yours', \"hasn't\", 'have', 'as', 'then', 'there', 'your', 'only', 'same', 'mustn', 'doing', 'needn', 'above', 'wasn', 'itself', 'for', 'under', 'o', \"shouldn't\", 'down', \"won't\", 'couldn', 'did', 'other', \"you've\", 'to', 'yourselves', 'shan', 'hasn', 'can', 'of', 'against', 'not', \"wouldn't\", 'but', 'these', 've', 'hadn', 'our', 'and', 'once', 'is', 're', \"mightn't\", 'do', 'in', 'this', 'out', 'below', 'why', 'we', 'all', 'does', 'because', 'on', 'doesn', 'd', 'be', 'i', 'aren', 'too', 'any', 'nor', 'such', \"you're\", 'by', 's', \"should've\", 'himself', 'they', 'yourself', 'were', 'own', \"you'll\", 'over', 'theirs', 'off', 'just', 'you', 'having', 'where', 'few', 'should', 'a', 'has', 'while', 'ours', 't', 'them', 'am', \"didn't\"} \n"
     ]
    },
    {
     "name": "stderr",
     "output_type": "stream",
     "text": [
      "[Parallel(n_jobs=1)]: Done   5 out of   5 | elapsed:  8.1min remaining:    0.0s\n"
     ]
    },
    {
     "name": "stdout",
     "output_type": "stream",
     "text": [
      "[CV]  clf__estimator__learning_rate=0.5, vect__stop_words={\"don't\", 'was', 'very', \"haven't\", 'no', 'ma', 'how', 'myself', \"shan't\", 'weren', 'won', 'herself', \"hadn't\", 'him', \"you'd\", 'haven', 'isn', 'he', 'ourselves', 'are', 'after', 'being', \"wasn't\", 'his', 'who', 'her', 'll', 'here', 'before', 'so', 'their', 'when', 'if', 'further', 'whom', 'it', 'will', 'into', \"couldn't\", 'at', 'shouldn', 'she', \"doesn't\", 'now', 'my', 'mightn', 'didn', \"mustn't\", 'each', 'than', 'don', 'wouldn', \"it's\", 'been', \"needn't\", 'had', 'those', 'until', 'which', 'that', \"that'll\", 'up', 'through', 'or', 'between', 'the', \"aren't\", 'during', \"isn't\", 'm', 'its', 'more', \"weren't\", 'some', 'with', 'an', 'most', 'themselves', 'y', 'ain', 'me', 'from', 'hers', 'what', 'again', 'both', 'about', \"she's\", 'yours', \"hasn't\", 'have', 'as', 'then', 'there', 'your', 'only', 'same', 'mustn', 'doing', 'needn', 'above', 'wasn', 'itself', 'for', 'under', 'o', \"shouldn't\", 'down', \"won't\", 'couldn', 'did', 'other', \"you've\", 'to', 'yourselves', 'shan', 'hasn', 'can', 'of', 'against', 'not', \"wouldn't\", 'but', 'these', 've', 'hadn', 'our', 'and', 'once', 'is', 're', \"mightn't\", 'do', 'in', 'this', 'out', 'below', 'why', 'we', 'all', 'does', 'because', 'on', 'doesn', 'd', 'be', 'i', 'aren', 'too', 'any', 'nor', 'such', \"you're\", 'by', 's', \"should've\", 'himself', 'they', 'yourself', 'were', 'own', \"you'll\", 'over', 'theirs', 'off', 'just', 'you', 'having', 'where', 'few', 'should', 'a', 'has', 'while', 'ours', 't', 'them', 'am', \"didn't\"}, score=0.3935694635488308, total= 1.2min\n",
      "[CV] clf__estimator__learning_rate=0.8, vect__stop_words=None ........\n"
     ]
    },
    {
     "name": "stderr",
     "output_type": "stream",
     "text": [
      "[Parallel(n_jobs=1)]: Done   6 out of   6 | elapsed:  9.4min remaining:    0.0s\n"
     ]
    },
    {
     "name": "stdout",
     "output_type": "stream",
     "text": [
      "[CV]  clf__estimator__learning_rate=0.8, vect__stop_words=None, score=0.34645804676753783, total= 1.6min\n",
      "[CV] clf__estimator__learning_rate=0.8, vect__stop_words=None ........\n"
     ]
    },
    {
     "name": "stderr",
     "output_type": "stream",
     "text": [
      "[Parallel(n_jobs=1)]: Done   7 out of   7 | elapsed: 11.2min remaining:    0.0s\n"
     ]
    },
    {
     "name": "stdout",
     "output_type": "stream",
     "text": [
      "[CV]  clf__estimator__learning_rate=0.8, vect__stop_words=None, score=0.32565337001375516, total= 1.6min\n",
      "[CV] clf__estimator__learning_rate=0.8, vect__stop_words=None ........\n"
     ]
    },
    {
     "name": "stderr",
     "output_type": "stream",
     "text": [
      "[Parallel(n_jobs=1)]: Done   8 out of   8 | elapsed: 13.0min remaining:    0.0s\n"
     ]
    },
    {
     "name": "stdout",
     "output_type": "stream",
     "text": [
      "[CV]  clf__estimator__learning_rate=0.8, vect__stop_words=None, score=0.3562585969738652, total= 1.6min\n",
      "[CV] clf__estimator__learning_rate=0.8, vect__stop_words={\"don't\", 'was', 'very', \"haven't\", 'no', 'ma', 'how', 'myself', \"shan't\", 'weren', 'won', 'herself', \"hadn't\", 'him', \"you'd\", 'haven', 'isn', 'he', 'ourselves', 'are', 'after', 'being', \"wasn't\", 'his', 'who', 'her', 'll', 'here', 'before', 'so', 'their', 'when', 'if', 'further', 'whom', 'it', 'will', 'into', \"couldn't\", 'at', 'shouldn', 'she', \"doesn't\", 'now', 'my', 'mightn', 'didn', \"mustn't\", 'each', 'than', 'don', 'wouldn', \"it's\", 'been', \"needn't\", 'had', 'those', 'until', 'which', 'that', \"that'll\", 'up', 'through', 'or', 'between', 'the', \"aren't\", 'during', \"isn't\", 'm', 'its', 'more', \"weren't\", 'some', 'with', 'an', 'most', 'themselves', 'y', 'ain', 'me', 'from', 'hers', 'what', 'again', 'both', 'about', \"she's\", 'yours', \"hasn't\", 'have', 'as', 'then', 'there', 'your', 'only', 'same', 'mustn', 'doing', 'needn', 'above', 'wasn', 'itself', 'for', 'under', 'o', \"shouldn't\", 'down', \"won't\", 'couldn', 'did', 'other', \"you've\", 'to', 'yourselves', 'shan', 'hasn', 'can', 'of', 'against', 'not', \"wouldn't\", 'but', 'these', 've', 'hadn', 'our', 'and', 'once', 'is', 're', \"mightn't\", 'do', 'in', 'this', 'out', 'below', 'why', 'we', 'all', 'does', 'because', 'on', 'doesn', 'd', 'be', 'i', 'aren', 'too', 'any', 'nor', 'such', \"you're\", 'by', 's', \"should've\", 'himself', 'they', 'yourself', 'were', 'own', \"you'll\", 'over', 'theirs', 'off', 'just', 'you', 'having', 'where', 'few', 'should', 'a', 'has', 'while', 'ours', 't', 'them', 'am', \"didn't\"} \n"
     ]
    },
    {
     "name": "stderr",
     "output_type": "stream",
     "text": [
      "[Parallel(n_jobs=1)]: Done   9 out of   9 | elapsed: 14.8min remaining:    0.0s\n"
     ]
    },
    {
     "name": "stdout",
     "output_type": "stream",
     "text": [
      "[CV]  clf__estimator__learning_rate=0.8, vect__stop_words={\"don't\", 'was', 'very', \"haven't\", 'no', 'ma', 'how', 'myself', \"shan't\", 'weren', 'won', 'herself', \"hadn't\", 'him', \"you'd\", 'haven', 'isn', 'he', 'ourselves', 'are', 'after', 'being', \"wasn't\", 'his', 'who', 'her', 'll', 'here', 'before', 'so', 'their', 'when', 'if', 'further', 'whom', 'it', 'will', 'into', \"couldn't\", 'at', 'shouldn', 'she', \"doesn't\", 'now', 'my', 'mightn', 'didn', \"mustn't\", 'each', 'than', 'don', 'wouldn', \"it's\", 'been', \"needn't\", 'had', 'those', 'until', 'which', 'that', \"that'll\", 'up', 'through', 'or', 'between', 'the', \"aren't\", 'during', \"isn't\", 'm', 'its', 'more', \"weren't\", 'some', 'with', 'an', 'most', 'themselves', 'y', 'ain', 'me', 'from', 'hers', 'what', 'again', 'both', 'about', \"she's\", 'yours', \"hasn't\", 'have', 'as', 'then', 'there', 'your', 'only', 'same', 'mustn', 'doing', 'needn', 'above', 'wasn', 'itself', 'for', 'under', 'o', \"shouldn't\", 'down', \"won't\", 'couldn', 'did', 'other', \"you've\", 'to', 'yourselves', 'shan', 'hasn', 'can', 'of', 'against', 'not', \"wouldn't\", 'but', 'these', 've', 'hadn', 'our', 'and', 'once', 'is', 're', \"mightn't\", 'do', 'in', 'this', 'out', 'below', 'why', 'we', 'all', 'does', 'because', 'on', 'doesn', 'd', 'be', 'i', 'aren', 'too', 'any', 'nor', 'such', \"you're\", 'by', 's', \"should've\", 'himself', 'they', 'yourself', 'were', 'own', \"you'll\", 'over', 'theirs', 'off', 'just', 'you', 'having', 'where', 'few', 'should', 'a', 'has', 'while', 'ours', 't', 'them', 'am', \"didn't\"}, score=0.35402338376891335, total= 1.2min\n",
      "[CV] clf__estimator__learning_rate=0.8, vect__stop_words={\"don't\", 'was', 'very', \"haven't\", 'no', 'ma', 'how', 'myself', \"shan't\", 'weren', 'won', 'herself', \"hadn't\", 'him', \"you'd\", 'haven', 'isn', 'he', 'ourselves', 'are', 'after', 'being', \"wasn't\", 'his', 'who', 'her', 'll', 'here', 'before', 'so', 'their', 'when', 'if', 'further', 'whom', 'it', 'will', 'into', \"couldn't\", 'at', 'shouldn', 'she', \"doesn't\", 'now', 'my', 'mightn', 'didn', \"mustn't\", 'each', 'than', 'don', 'wouldn', \"it's\", 'been', \"needn't\", 'had', 'those', 'until', 'which', 'that', \"that'll\", 'up', 'through', 'or', 'between', 'the', \"aren't\", 'during', \"isn't\", 'm', 'its', 'more', \"weren't\", 'some', 'with', 'an', 'most', 'themselves', 'y', 'ain', 'me', 'from', 'hers', 'what', 'again', 'both', 'about', \"she's\", 'yours', \"hasn't\", 'have', 'as', 'then', 'there', 'your', 'only', 'same', 'mustn', 'doing', 'needn', 'above', 'wasn', 'itself', 'for', 'under', 'o', \"shouldn't\", 'down', \"won't\", 'couldn', 'did', 'other', \"you've\", 'to', 'yourselves', 'shan', 'hasn', 'can', 'of', 'against', 'not', \"wouldn't\", 'but', 'these', 've', 'hadn', 'our', 'and', 'once', 'is', 're', \"mightn't\", 'do', 'in', 'this', 'out', 'below', 'why', 'we', 'all', 'does', 'because', 'on', 'doesn', 'd', 'be', 'i', 'aren', 'too', 'any', 'nor', 'such', \"you're\", 'by', 's', \"should've\", 'himself', 'they', 'yourself', 'were', 'own', \"you'll\", 'over', 'theirs', 'off', 'just', 'you', 'having', 'where', 'few', 'should', 'a', 'has', 'while', 'ours', 't', 'them', 'am', \"didn't\"} \n",
      "[CV]  clf__estimator__learning_rate=0.8, vect__stop_words={\"don't\", 'was', 'very', \"haven't\", 'no', 'ma', 'how', 'myself', \"shan't\", 'weren', 'won', 'herself', \"hadn't\", 'him', \"you'd\", 'haven', 'isn', 'he', 'ourselves', 'are', 'after', 'being', \"wasn't\", 'his', 'who', 'her', 'll', 'here', 'before', 'so', 'their', 'when', 'if', 'further', 'whom', 'it', 'will', 'into', \"couldn't\", 'at', 'shouldn', 'she', \"doesn't\", 'now', 'my', 'mightn', 'didn', \"mustn't\", 'each', 'than', 'don', 'wouldn', \"it's\", 'been', \"needn't\", 'had', 'those', 'until', 'which', 'that', \"that'll\", 'up', 'through', 'or', 'between', 'the', \"aren't\", 'during', \"isn't\", 'm', 'its', 'more', \"weren't\", 'some', 'with', 'an', 'most', 'themselves', 'y', 'ain', 'me', 'from', 'hers', 'what', 'again', 'both', 'about', \"she's\", 'yours', \"hasn't\", 'have', 'as', 'then', 'there', 'your', 'only', 'same', 'mustn', 'doing', 'needn', 'above', 'wasn', 'itself', 'for', 'under', 'o', \"shouldn't\", 'down', \"won't\", 'couldn', 'did', 'other', \"you've\", 'to', 'yourselves', 'shan', 'hasn', 'can', 'of', 'against', 'not', \"wouldn't\", 'but', 'these', 've', 'hadn', 'our', 'and', 'once', 'is', 're', \"mightn't\", 'do', 'in', 'this', 'out', 'below', 'why', 'we', 'all', 'does', 'because', 'on', 'doesn', 'd', 'be', 'i', 'aren', 'too', 'any', 'nor', 'such', \"you're\", 'by', 's', \"should've\", 'himself', 'they', 'yourself', 'were', 'own', \"you'll\", 'over', 'theirs', 'off', 'just', 'you', 'having', 'where', 'few', 'should', 'a', 'has', 'while', 'ours', 't', 'them', 'am', \"didn't\"}, score=0.3481774415405777, total= 1.2min\n",
      "[CV] clf__estimator__learning_rate=0.8, vect__stop_words={\"don't\", 'was', 'very', \"haven't\", 'no', 'ma', 'how', 'myself', \"shan't\", 'weren', 'won', 'herself', \"hadn't\", 'him', \"you'd\", 'haven', 'isn', 'he', 'ourselves', 'are', 'after', 'being', \"wasn't\", 'his', 'who', 'her', 'll', 'here', 'before', 'so', 'their', 'when', 'if', 'further', 'whom', 'it', 'will', 'into', \"couldn't\", 'at', 'shouldn', 'she', \"doesn't\", 'now', 'my', 'mightn', 'didn', \"mustn't\", 'each', 'than', 'don', 'wouldn', \"it's\", 'been', \"needn't\", 'had', 'those', 'until', 'which', 'that', \"that'll\", 'up', 'through', 'or', 'between', 'the', \"aren't\", 'during', \"isn't\", 'm', 'its', 'more', \"weren't\", 'some', 'with', 'an', 'most', 'themselves', 'y', 'ain', 'me', 'from', 'hers', 'what', 'again', 'both', 'about', \"she's\", 'yours', \"hasn't\", 'have', 'as', 'then', 'there', 'your', 'only', 'same', 'mustn', 'doing', 'needn', 'above', 'wasn', 'itself', 'for', 'under', 'o', \"shouldn't\", 'down', \"won't\", 'couldn', 'did', 'other', \"you've\", 'to', 'yourselves', 'shan', 'hasn', 'can', 'of', 'against', 'not', \"wouldn't\", 'but', 'these', 've', 'hadn', 'our', 'and', 'once', 'is', 're', \"mightn't\", 'do', 'in', 'this', 'out', 'below', 'why', 'we', 'all', 'does', 'because', 'on', 'doesn', 'd', 'be', 'i', 'aren', 'too', 'any', 'nor', 'such', \"you're\", 'by', 's', \"should've\", 'himself', 'they', 'yourself', 'were', 'own', \"you'll\", 'over', 'theirs', 'off', 'just', 'you', 'having', 'where', 'few', 'should', 'a', 'has', 'while', 'ours', 't', 'them', 'am', \"didn't\"} \n",
      "[CV]  clf__estimator__learning_rate=0.8, vect__stop_words={\"don't\", 'was', 'very', \"haven't\", 'no', 'ma', 'how', 'myself', \"shan't\", 'weren', 'won', 'herself', \"hadn't\", 'him', \"you'd\", 'haven', 'isn', 'he', 'ourselves', 'are', 'after', 'being', \"wasn't\", 'his', 'who', 'her', 'll', 'here', 'before', 'so', 'their', 'when', 'if', 'further', 'whom', 'it', 'will', 'into', \"couldn't\", 'at', 'shouldn', 'she', \"doesn't\", 'now', 'my', 'mightn', 'didn', \"mustn't\", 'each', 'than', 'don', 'wouldn', \"it's\", 'been', \"needn't\", 'had', 'those', 'until', 'which', 'that', \"that'll\", 'up', 'through', 'or', 'between', 'the', \"aren't\", 'during', \"isn't\", 'm', 'its', 'more', \"weren't\", 'some', 'with', 'an', 'most', 'themselves', 'y', 'ain', 'me', 'from', 'hers', 'what', 'again', 'both', 'about', \"she's\", 'yours', \"hasn't\", 'have', 'as', 'then', 'there', 'your', 'only', 'same', 'mustn', 'doing', 'needn', 'above', 'wasn', 'itself', 'for', 'under', 'o', \"shouldn't\", 'down', \"won't\", 'couldn', 'did', 'other', \"you've\", 'to', 'yourselves', 'shan', 'hasn', 'can', 'of', 'against', 'not', \"wouldn't\", 'but', 'these', 've', 'hadn', 'our', 'and', 'once', 'is', 're', \"mightn't\", 'do', 'in', 'this', 'out', 'below', 'why', 'we', 'all', 'does', 'because', 'on', 'doesn', 'd', 'be', 'i', 'aren', 'too', 'any', 'nor', 'such', \"you're\", 'by', 's', \"should've\", 'himself', 'they', 'yourself', 'were', 'own', \"you'll\", 'over', 'theirs', 'off', 'just', 'you', 'having', 'where', 'few', 'should', 'a', 'has', 'while', 'ours', 't', 'them', 'am', \"didn't\"}, score=0.3457702888583219, total= 1.2min\n",
      "[CV] clf__estimator__learning_rate=1, vect__stop_words=None ..........\n",
      "[CV]  clf__estimator__learning_rate=1, vect__stop_words=None, score=0.32892022008253097, total= 1.6min\n",
      "[CV] clf__estimator__learning_rate=1, vect__stop_words=None ..........\n",
      "[CV]  clf__estimator__learning_rate=1, vect__stop_words=None, score=0.30433287482806054, total= 1.6min\n",
      "[CV] clf__estimator__learning_rate=1, vect__stop_words=None ..........\n",
      "[CV]  clf__estimator__learning_rate=1, vect__stop_words=None, score=0.33682943603851445, total= 1.6min\n",
      "[CV] clf__estimator__learning_rate=1, vect__stop_words={\"don't\", 'was', 'very', \"haven't\", 'no', 'ma', 'how', 'myself', \"shan't\", 'weren', 'won', 'herself', \"hadn't\", 'him', \"you'd\", 'haven', 'isn', 'he', 'ourselves', 'are', 'after', 'being', \"wasn't\", 'his', 'who', 'her', 'll', 'here', 'before', 'so', 'their', 'when', 'if', 'further', 'whom', 'it', 'will', 'into', \"couldn't\", 'at', 'shouldn', 'she', \"doesn't\", 'now', 'my', 'mightn', 'didn', \"mustn't\", 'each', 'than', 'don', 'wouldn', \"it's\", 'been', \"needn't\", 'had', 'those', 'until', 'which', 'that', \"that'll\", 'up', 'through', 'or', 'between', 'the', \"aren't\", 'during', \"isn't\", 'm', 'its', 'more', \"weren't\", 'some', 'with', 'an', 'most', 'themselves', 'y', 'ain', 'me', 'from', 'hers', 'what', 'again', 'both', 'about', \"she's\", 'yours', \"hasn't\", 'have', 'as', 'then', 'there', 'your', 'only', 'same', 'mustn', 'doing', 'needn', 'above', 'wasn', 'itself', 'for', 'under', 'o', \"shouldn't\", 'down', \"won't\", 'couldn', 'did', 'other', \"you've\", 'to', 'yourselves', 'shan', 'hasn', 'can', 'of', 'against', 'not', \"wouldn't\", 'but', 'these', 've', 'hadn', 'our', 'and', 'once', 'is', 're', \"mightn't\", 'do', 'in', 'this', 'out', 'below', 'why', 'we', 'all', 'does', 'because', 'on', 'doesn', 'd', 'be', 'i', 'aren', 'too', 'any', 'nor', 'such', \"you're\", 'by', 's', \"should've\", 'himself', 'they', 'yourself', 'were', 'own', \"you'll\", 'over', 'theirs', 'off', 'just', 'you', 'having', 'where', 'few', 'should', 'a', 'has', 'while', 'ours', 't', 'them', 'am', \"didn't\"} \n",
      "[CV]  clf__estimator__learning_rate=1, vect__stop_words={\"don't\", 'was', 'very', \"haven't\", 'no', 'ma', 'how', 'myself', \"shan't\", 'weren', 'won', 'herself', \"hadn't\", 'him', \"you'd\", 'haven', 'isn', 'he', 'ourselves', 'are', 'after', 'being', \"wasn't\", 'his', 'who', 'her', 'll', 'here', 'before', 'so', 'their', 'when', 'if', 'further', 'whom', 'it', 'will', 'into', \"couldn't\", 'at', 'shouldn', 'she', \"doesn't\", 'now', 'my', 'mightn', 'didn', \"mustn't\", 'each', 'than', 'don', 'wouldn', \"it's\", 'been', \"needn't\", 'had', 'those', 'until', 'which', 'that', \"that'll\", 'up', 'through', 'or', 'between', 'the', \"aren't\", 'during', \"isn't\", 'm', 'its', 'more', \"weren't\", 'some', 'with', 'an', 'most', 'themselves', 'y', 'ain', 'me', 'from', 'hers', 'what', 'again', 'both', 'about', \"she's\", 'yours', \"hasn't\", 'have', 'as', 'then', 'there', 'your', 'only', 'same', 'mustn', 'doing', 'needn', 'above', 'wasn', 'itself', 'for', 'under', 'o', \"shouldn't\", 'down', \"won't\", 'couldn', 'did', 'other', \"you've\", 'to', 'yourselves', 'shan', 'hasn', 'can', 'of', 'against', 'not', \"wouldn't\", 'but', 'these', 've', 'hadn', 'our', 'and', 'once', 'is', 're', \"mightn't\", 'do', 'in', 'this', 'out', 'below', 'why', 'we', 'all', 'does', 'because', 'on', 'doesn', 'd', 'be', 'i', 'aren', 'too', 'any', 'nor', 'such', \"you're\", 'by', 's', \"should've\", 'himself', 'they', 'yourself', 'were', 'own', \"you'll\", 'over', 'theirs', 'off', 'just', 'you', 'having', 'where', 'few', 'should', 'a', 'has', 'while', 'ours', 't', 'them', 'am', \"didn't\"}, score=0.3371733149931224, total= 1.2min\n",
      "[CV] clf__estimator__learning_rate=1, vect__stop_words={\"don't\", 'was', 'very', \"haven't\", 'no', 'ma', 'how', 'myself', \"shan't\", 'weren', 'won', 'herself', \"hadn't\", 'him', \"you'd\", 'haven', 'isn', 'he', 'ourselves', 'are', 'after', 'being', \"wasn't\", 'his', 'who', 'her', 'll', 'here', 'before', 'so', 'their', 'when', 'if', 'further', 'whom', 'it', 'will', 'into', \"couldn't\", 'at', 'shouldn', 'she', \"doesn't\", 'now', 'my', 'mightn', 'didn', \"mustn't\", 'each', 'than', 'don', 'wouldn', \"it's\", 'been', \"needn't\", 'had', 'those', 'until', 'which', 'that', \"that'll\", 'up', 'through', 'or', 'between', 'the', \"aren't\", 'during', \"isn't\", 'm', 'its', 'more', \"weren't\", 'some', 'with', 'an', 'most', 'themselves', 'y', 'ain', 'me', 'from', 'hers', 'what', 'again', 'both', 'about', \"she's\", 'yours', \"hasn't\", 'have', 'as', 'then', 'there', 'your', 'only', 'same', 'mustn', 'doing', 'needn', 'above', 'wasn', 'itself', 'for', 'under', 'o', \"shouldn't\", 'down', \"won't\", 'couldn', 'did', 'other', \"you've\", 'to', 'yourselves', 'shan', 'hasn', 'can', 'of', 'against', 'not', \"wouldn't\", 'but', 'these', 've', 'hadn', 'our', 'and', 'once', 'is', 're', \"mightn't\", 'do', 'in', 'this', 'out', 'below', 'why', 'we', 'all', 'does', 'because', 'on', 'doesn', 'd', 'be', 'i', 'aren', 'too', 'any', 'nor', 'such', \"you're\", 'by', 's', \"should've\", 'himself', 'they', 'yourself', 'were', 'own', \"you'll\", 'over', 'theirs', 'off', 'just', 'you', 'having', 'where', 'few', 'should', 'a', 'has', 'while', 'ours', 't', 'them', 'am', \"didn't\"} \n",
      "[CV]  clf__estimator__learning_rate=1, vect__stop_words={\"don't\", 'was', 'very', \"haven't\", 'no', 'ma', 'how', 'myself', \"shan't\", 'weren', 'won', 'herself', \"hadn't\", 'him', \"you'd\", 'haven', 'isn', 'he', 'ourselves', 'are', 'after', 'being', \"wasn't\", 'his', 'who', 'her', 'll', 'here', 'before', 'so', 'their', 'when', 'if', 'further', 'whom', 'it', 'will', 'into', \"couldn't\", 'at', 'shouldn', 'she', \"doesn't\", 'now', 'my', 'mightn', 'didn', \"mustn't\", 'each', 'than', 'don', 'wouldn', \"it's\", 'been', \"needn't\", 'had', 'those', 'until', 'which', 'that', \"that'll\", 'up', 'through', 'or', 'between', 'the', \"aren't\", 'during', \"isn't\", 'm', 'its', 'more', \"weren't\", 'some', 'with', 'an', 'most', 'themselves', 'y', 'ain', 'me', 'from', 'hers', 'what', 'again', 'both', 'about', \"she's\", 'yours', \"hasn't\", 'have', 'as', 'then', 'there', 'your', 'only', 'same', 'mustn', 'doing', 'needn', 'above', 'wasn', 'itself', 'for', 'under', 'o', \"shouldn't\", 'down', \"won't\", 'couldn', 'did', 'other', \"you've\", 'to', 'yourselves', 'shan', 'hasn', 'can', 'of', 'against', 'not', \"wouldn't\", 'but', 'these', 've', 'hadn', 'our', 'and', 'once', 'is', 're', \"mightn't\", 'do', 'in', 'this', 'out', 'below', 'why', 'we', 'all', 'does', 'because', 'on', 'doesn', 'd', 'be', 'i', 'aren', 'too', 'any', 'nor', 'such', \"you're\", 'by', 's', \"should've\", 'himself', 'they', 'yourself', 'were', 'own', \"you'll\", 'over', 'theirs', 'off', 'just', 'you', 'having', 'where', 'few', 'should', 'a', 'has', 'while', 'ours', 't', 'them', 'am', \"didn't\"}, score=0.3149931224209078, total= 1.2min\n",
      "[CV] clf__estimator__learning_rate=1, vect__stop_words={\"don't\", 'was', 'very', \"haven't\", 'no', 'ma', 'how', 'myself', \"shan't\", 'weren', 'won', 'herself', \"hadn't\", 'him', \"you'd\", 'haven', 'isn', 'he', 'ourselves', 'are', 'after', 'being', \"wasn't\", 'his', 'who', 'her', 'll', 'here', 'before', 'so', 'their', 'when', 'if', 'further', 'whom', 'it', 'will', 'into', \"couldn't\", 'at', 'shouldn', 'she', \"doesn't\", 'now', 'my', 'mightn', 'didn', \"mustn't\", 'each', 'than', 'don', 'wouldn', \"it's\", 'been', \"needn't\", 'had', 'those', 'until', 'which', 'that', \"that'll\", 'up', 'through', 'or', 'between', 'the', \"aren't\", 'during', \"isn't\", 'm', 'its', 'more', \"weren't\", 'some', 'with', 'an', 'most', 'themselves', 'y', 'ain', 'me', 'from', 'hers', 'what', 'again', 'both', 'about', \"she's\", 'yours', \"hasn't\", 'have', 'as', 'then', 'there', 'your', 'only', 'same', 'mustn', 'doing', 'needn', 'above', 'wasn', 'itself', 'for', 'under', 'o', \"shouldn't\", 'down', \"won't\", 'couldn', 'did', 'other', \"you've\", 'to', 'yourselves', 'shan', 'hasn', 'can', 'of', 'against', 'not', \"wouldn't\", 'but', 'these', 've', 'hadn', 'our', 'and', 'once', 'is', 're', \"mightn't\", 'do', 'in', 'this', 'out', 'below', 'why', 'we', 'all', 'does', 'because', 'on', 'doesn', 'd', 'be', 'i', 'aren', 'too', 'any', 'nor', 'such', \"you're\", 'by', 's', \"should've\", 'himself', 'they', 'yourself', 'were', 'own', \"you'll\", 'over', 'theirs', 'off', 'just', 'you', 'having', 'where', 'few', 'should', 'a', 'has', 'while', 'ours', 't', 'them', 'am', \"didn't\"} \n",
      "[CV]  clf__estimator__learning_rate=1, vect__stop_words={\"don't\", 'was', 'very', \"haven't\", 'no', 'ma', 'how', 'myself', \"shan't\", 'weren', 'won', 'herself', \"hadn't\", 'him', \"you'd\", 'haven', 'isn', 'he', 'ourselves', 'are', 'after', 'being', \"wasn't\", 'his', 'who', 'her', 'll', 'here', 'before', 'so', 'their', 'when', 'if', 'further', 'whom', 'it', 'will', 'into', \"couldn't\", 'at', 'shouldn', 'she', \"doesn't\", 'now', 'my', 'mightn', 'didn', \"mustn't\", 'each', 'than', 'don', 'wouldn', \"it's\", 'been', \"needn't\", 'had', 'those', 'until', 'which', 'that', \"that'll\", 'up', 'through', 'or', 'between', 'the', \"aren't\", 'during', \"isn't\", 'm', 'its', 'more', \"weren't\", 'some', 'with', 'an', 'most', 'themselves', 'y', 'ain', 'me', 'from', 'hers', 'what', 'again', 'both', 'about', \"she's\", 'yours', \"hasn't\", 'have', 'as', 'then', 'there', 'your', 'only', 'same', 'mustn', 'doing', 'needn', 'above', 'wasn', 'itself', 'for', 'under', 'o', \"shouldn't\", 'down', \"won't\", 'couldn', 'did', 'other', \"you've\", 'to', 'yourselves', 'shan', 'hasn', 'can', 'of', 'against', 'not', \"wouldn't\", 'but', 'these', 've', 'hadn', 'our', 'and', 'once', 'is', 're', \"mightn't\", 'do', 'in', 'this', 'out', 'below', 'why', 'we', 'all', 'does', 'because', 'on', 'doesn', 'd', 'be', 'i', 'aren', 'too', 'any', 'nor', 'such', \"you're\", 'by', 's', \"should've\", 'himself', 'they', 'yourself', 'were', 'own', \"you'll\", 'over', 'theirs', 'off', 'just', 'you', 'having', 'where', 'few', 'should', 'a', 'has', 'while', 'ours', 't', 'them', 'am', \"didn't\"}, score=0.32909215955983495, total= 1.2min\n",
      "[CV] clf__estimator__learning_rate=1.2, vect__stop_words=None ........\n",
      "[CV]  clf__estimator__learning_rate=1.2, vect__stop_words=None, score=0.3062242090784044, total= 1.6min\n",
      "[CV] clf__estimator__learning_rate=1.2, vect__stop_words=None ........\n",
      "[CV]  clf__estimator__learning_rate=1.2, vect__stop_words=None, score=0.27854195323246217, total= 1.6min\n",
      "[CV] clf__estimator__learning_rate=1.2, vect__stop_words=None ........\n",
      "[CV]  clf__estimator__learning_rate=1.2, vect__stop_words=None, score=0.30416093535075656, total= 1.6min\n",
      "[CV] clf__estimator__learning_rate=1.2, vect__stop_words={\"don't\", 'was', 'very', \"haven't\", 'no', 'ma', 'how', 'myself', \"shan't\", 'weren', 'won', 'herself', \"hadn't\", 'him', \"you'd\", 'haven', 'isn', 'he', 'ourselves', 'are', 'after', 'being', \"wasn't\", 'his', 'who', 'her', 'll', 'here', 'before', 'so', 'their', 'when', 'if', 'further', 'whom', 'it', 'will', 'into', \"couldn't\", 'at', 'shouldn', 'she', \"doesn't\", 'now', 'my', 'mightn', 'didn', \"mustn't\", 'each', 'than', 'don', 'wouldn', \"it's\", 'been', \"needn't\", 'had', 'those', 'until', 'which', 'that', \"that'll\", 'up', 'through', 'or', 'between', 'the', \"aren't\", 'during', \"isn't\", 'm', 'its', 'more', \"weren't\", 'some', 'with', 'an', 'most', 'themselves', 'y', 'ain', 'me', 'from', 'hers', 'what', 'again', 'both', 'about', \"she's\", 'yours', \"hasn't\", 'have', 'as', 'then', 'there', 'your', 'only', 'same', 'mustn', 'doing', 'needn', 'above', 'wasn', 'itself', 'for', 'under', 'o', \"shouldn't\", 'down', \"won't\", 'couldn', 'did', 'other', \"you've\", 'to', 'yourselves', 'shan', 'hasn', 'can', 'of', 'against', 'not', \"wouldn't\", 'but', 'these', 've', 'hadn', 'our', 'and', 'once', 'is', 're', \"mightn't\", 'do', 'in', 'this', 'out', 'below', 'why', 'we', 'all', 'does', 'because', 'on', 'doesn', 'd', 'be', 'i', 'aren', 'too', 'any', 'nor', 'such', \"you're\", 'by', 's', \"should've\", 'himself', 'they', 'yourself', 'were', 'own', \"you'll\", 'over', 'theirs', 'off', 'just', 'you', 'having', 'where', 'few', 'should', 'a', 'has', 'while', 'ours', 't', 'them', 'am', \"didn't\"} \n",
      "[CV]  clf__estimator__learning_rate=1.2, vect__stop_words={\"don't\", 'was', 'very', \"haven't\", 'no', 'ma', 'how', 'myself', \"shan't\", 'weren', 'won', 'herself', \"hadn't\", 'him', \"you'd\", 'haven', 'isn', 'he', 'ourselves', 'are', 'after', 'being', \"wasn't\", 'his', 'who', 'her', 'll', 'here', 'before', 'so', 'their', 'when', 'if', 'further', 'whom', 'it', 'will', 'into', \"couldn't\", 'at', 'shouldn', 'she', \"doesn't\", 'now', 'my', 'mightn', 'didn', \"mustn't\", 'each', 'than', 'don', 'wouldn', \"it's\", 'been', \"needn't\", 'had', 'those', 'until', 'which', 'that', \"that'll\", 'up', 'through', 'or', 'between', 'the', \"aren't\", 'during', \"isn't\", 'm', 'its', 'more', \"weren't\", 'some', 'with', 'an', 'most', 'themselves', 'y', 'ain', 'me', 'from', 'hers', 'what', 'again', 'both', 'about', \"she's\", 'yours', \"hasn't\", 'have', 'as', 'then', 'there', 'your', 'only', 'same', 'mustn', 'doing', 'needn', 'above', 'wasn', 'itself', 'for', 'under', 'o', \"shouldn't\", 'down', \"won't\", 'couldn', 'did', 'other', \"you've\", 'to', 'yourselves', 'shan', 'hasn', 'can', 'of', 'against', 'not', \"wouldn't\", 'but', 'these', 've', 'hadn', 'our', 'and', 'once', 'is', 're', \"mightn't\", 'do', 'in', 'this', 'out', 'below', 'why', 'we', 'all', 'does', 'because', 'on', 'doesn', 'd', 'be', 'i', 'aren', 'too', 'any', 'nor', 'such', \"you're\", 'by', 's', \"should've\", 'himself', 'they', 'yourself', 'were', 'own', \"you'll\", 'over', 'theirs', 'off', 'just', 'you', 'having', 'where', 'few', 'should', 'a', 'has', 'while', 'ours', 't', 'them', 'am', \"didn't\"}, score=0.3093191196698762, total= 1.2min\n",
      "[CV] clf__estimator__learning_rate=1.2, vect__stop_words={\"don't\", 'was', 'very', \"haven't\", 'no', 'ma', 'how', 'myself', \"shan't\", 'weren', 'won', 'herself', \"hadn't\", 'him', \"you'd\", 'haven', 'isn', 'he', 'ourselves', 'are', 'after', 'being', \"wasn't\", 'his', 'who', 'her', 'll', 'here', 'before', 'so', 'their', 'when', 'if', 'further', 'whom', 'it', 'will', 'into', \"couldn't\", 'at', 'shouldn', 'she', \"doesn't\", 'now', 'my', 'mightn', 'didn', \"mustn't\", 'each', 'than', 'don', 'wouldn', \"it's\", 'been', \"needn't\", 'had', 'those', 'until', 'which', 'that', \"that'll\", 'up', 'through', 'or', 'between', 'the', \"aren't\", 'during', \"isn't\", 'm', 'its', 'more', \"weren't\", 'some', 'with', 'an', 'most', 'themselves', 'y', 'ain', 'me', 'from', 'hers', 'what', 'again', 'both', 'about', \"she's\", 'yours', \"hasn't\", 'have', 'as', 'then', 'there', 'your', 'only', 'same', 'mustn', 'doing', 'needn', 'above', 'wasn', 'itself', 'for', 'under', 'o', \"shouldn't\", 'down', \"won't\", 'couldn', 'did', 'other', \"you've\", 'to', 'yourselves', 'shan', 'hasn', 'can', 'of', 'against', 'not', \"wouldn't\", 'but', 'these', 've', 'hadn', 'our', 'and', 'once', 'is', 're', \"mightn't\", 'do', 'in', 'this', 'out', 'below', 'why', 'we', 'all', 'does', 'because', 'on', 'doesn', 'd', 'be', 'i', 'aren', 'too', 'any', 'nor', 'such', \"you're\", 'by', 's', \"should've\", 'himself', 'they', 'yourself', 'were', 'own', \"you'll\", 'over', 'theirs', 'off', 'just', 'you', 'having', 'where', 'few', 'should', 'a', 'has', 'while', 'ours', 't', 'them', 'am', \"didn't\"} \n",
      "[CV]  clf__estimator__learning_rate=1.2, vect__stop_words={\"don't\", 'was', 'very', \"haven't\", 'no', 'ma', 'how', 'myself', \"shan't\", 'weren', 'won', 'herself', \"hadn't\", 'him', \"you'd\", 'haven', 'isn', 'he', 'ourselves', 'are', 'after', 'being', \"wasn't\", 'his', 'who', 'her', 'll', 'here', 'before', 'so', 'their', 'when', 'if', 'further', 'whom', 'it', 'will', 'into', \"couldn't\", 'at', 'shouldn', 'she', \"doesn't\", 'now', 'my', 'mightn', 'didn', \"mustn't\", 'each', 'than', 'don', 'wouldn', \"it's\", 'been', \"needn't\", 'had', 'those', 'until', 'which', 'that', \"that'll\", 'up', 'through', 'or', 'between', 'the', \"aren't\", 'during', \"isn't\", 'm', 'its', 'more', \"weren't\", 'some', 'with', 'an', 'most', 'themselves', 'y', 'ain', 'me', 'from', 'hers', 'what', 'again', 'both', 'about', \"she's\", 'yours', \"hasn't\", 'have', 'as', 'then', 'there', 'your', 'only', 'same', 'mustn', 'doing', 'needn', 'above', 'wasn', 'itself', 'for', 'under', 'o', \"shouldn't\", 'down', \"won't\", 'couldn', 'did', 'other', \"you've\", 'to', 'yourselves', 'shan', 'hasn', 'can', 'of', 'against', 'not', \"wouldn't\", 'but', 'these', 've', 'hadn', 'our', 'and', 'once', 'is', 're', \"mightn't\", 'do', 'in', 'this', 'out', 'below', 'why', 'we', 'all', 'does', 'because', 'on', 'doesn', 'd', 'be', 'i', 'aren', 'too', 'any', 'nor', 'such', \"you're\", 'by', 's', \"should've\", 'himself', 'they', 'yourself', 'were', 'own', \"you'll\", 'over', 'theirs', 'off', 'just', 'you', 'having', 'where', 'few', 'should', 'a', 'has', 'while', 'ours', 't', 'them', 'am', \"didn't\"}, score=0.281636863823934, total= 1.2min\n",
      "[CV] clf__estimator__learning_rate=1.2, vect__stop_words={\"don't\", 'was', 'very', \"haven't\", 'no', 'ma', 'how', 'myself', \"shan't\", 'weren', 'won', 'herself', \"hadn't\", 'him', \"you'd\", 'haven', 'isn', 'he', 'ourselves', 'are', 'after', 'being', \"wasn't\", 'his', 'who', 'her', 'll', 'here', 'before', 'so', 'their', 'when', 'if', 'further', 'whom', 'it', 'will', 'into', \"couldn't\", 'at', 'shouldn', 'she', \"doesn't\", 'now', 'my', 'mightn', 'didn', \"mustn't\", 'each', 'than', 'don', 'wouldn', \"it's\", 'been', \"needn't\", 'had', 'those', 'until', 'which', 'that', \"that'll\", 'up', 'through', 'or', 'between', 'the', \"aren't\", 'during', \"isn't\", 'm', 'its', 'more', \"weren't\", 'some', 'with', 'an', 'most', 'themselves', 'y', 'ain', 'me', 'from', 'hers', 'what', 'again', 'both', 'about', \"she's\", 'yours', \"hasn't\", 'have', 'as', 'then', 'there', 'your', 'only', 'same', 'mustn', 'doing', 'needn', 'above', 'wasn', 'itself', 'for', 'under', 'o', \"shouldn't\", 'down', \"won't\", 'couldn', 'did', 'other', \"you've\", 'to', 'yourselves', 'shan', 'hasn', 'can', 'of', 'against', 'not', \"wouldn't\", 'but', 'these', 've', 'hadn', 'our', 'and', 'once', 'is', 're', \"mightn't\", 'do', 'in', 'this', 'out', 'below', 'why', 'we', 'all', 'does', 'because', 'on', 'doesn', 'd', 'be', 'i', 'aren', 'too', 'any', 'nor', 'such', \"you're\", 'by', 's', \"should've\", 'himself', 'they', 'yourself', 'were', 'own', \"you'll\", 'over', 'theirs', 'off', 'just', 'you', 'having', 'where', 'few', 'should', 'a', 'has', 'while', 'ours', 't', 'them', 'am', \"didn't\"} \n",
      "[CV]  clf__estimator__learning_rate=1.2, vect__stop_words={\"don't\", 'was', 'very', \"haven't\", 'no', 'ma', 'how', 'myself', \"shan't\", 'weren', 'won', 'herself', \"hadn't\", 'him', \"you'd\", 'haven', 'isn', 'he', 'ourselves', 'are', 'after', 'being', \"wasn't\", 'his', 'who', 'her', 'll', 'here', 'before', 'so', 'their', 'when', 'if', 'further', 'whom', 'it', 'will', 'into', \"couldn't\", 'at', 'shouldn', 'she', \"doesn't\", 'now', 'my', 'mightn', 'didn', \"mustn't\", 'each', 'than', 'don', 'wouldn', \"it's\", 'been', \"needn't\", 'had', 'those', 'until', 'which', 'that', \"that'll\", 'up', 'through', 'or', 'between', 'the', \"aren't\", 'during', \"isn't\", 'm', 'its', 'more', \"weren't\", 'some', 'with', 'an', 'most', 'themselves', 'y', 'ain', 'me', 'from', 'hers', 'what', 'again', 'both', 'about', \"she's\", 'yours', \"hasn't\", 'have', 'as', 'then', 'there', 'your', 'only', 'same', 'mustn', 'doing', 'needn', 'above', 'wasn', 'itself', 'for', 'under', 'o', \"shouldn't\", 'down', \"won't\", 'couldn', 'did', 'other', \"you've\", 'to', 'yourselves', 'shan', 'hasn', 'can', 'of', 'against', 'not', \"wouldn't\", 'but', 'these', 've', 'hadn', 'our', 'and', 'once', 'is', 're', \"mightn't\", 'do', 'in', 'this', 'out', 'below', 'why', 'we', 'all', 'does', 'because', 'on', 'doesn', 'd', 'be', 'i', 'aren', 'too', 'any', 'nor', 'such', \"you're\", 'by', 's', \"should've\", 'himself', 'they', 'yourself', 'were', 'own', \"you'll\", 'over', 'theirs', 'off', 'just', 'you', 'having', 'where', 'few', 'should', 'a', 'has', 'while', 'ours', 't', 'them', 'am', \"didn't\"}, score=0.29418844566712515, total= 1.2min\n"
     ]
    },
    {
     "name": "stderr",
     "output_type": "stream",
     "text": [
      "[Parallel(n_jobs=1)]: Done  24 out of  24 | elapsed: 37.7min finished\n"
     ]
    },
    {
     "name": "stdout",
     "output_type": "stream",
     "text": [
      "             precision    recall  f1-score   support\n",
      "\n",
      "          0       0.50      0.07      0.13      1495\n",
      "          1       0.00      0.00      0.00        46\n",
      "          2       0.49      0.06      0.11      3563\n",
      "          3       0.00      0.00      0.00       702\n",
      "          4       0.00      0.00      0.00       425\n",
      "          5       0.00      0.00      0.00       245\n",
      "          6       0.00      0.00      0.00       160\n",
      "          7       0.00      0.00      0.00       272\n",
      "          8       0.00      0.00      0.00         0\n",
      "          9       0.00      0.00      0.00       555\n",
      "         10       0.00      0.00      0.00       989\n",
      "         11       0.00      0.00      0.00       752\n",
      "         12       0.00      0.00      0.00       140\n",
      "         13       0.00      0.00      0.00       208\n",
      "         14       0.00      0.00      0.00        97\n",
      "         15       0.00      0.00      0.00       299\n",
      "         16       0.00      0.00      0.00       397\n",
      "         17       0.17      0.00      0.00      1101\n",
      "         18       0.00      0.00      0.00       534\n",
      "         19       1.00      0.00      0.01       384\n",
      "         20       0.00      0.00      0.00       449\n",
      "         21       0.00      0.00      0.00       179\n",
      "         22       0.00      0.00      0.00        55\n",
      "         23       0.00      0.00      0.00        94\n",
      "         24       0.00      0.00      0.00        44\n",
      "         25       0.00      0.00      0.00        96\n",
      "         26       0.00      0.00      0.00       356\n",
      "         27       0.68      0.12      0.21      2402\n",
      "         28       0.00      0.00      0.00       722\n",
      "         29       0.60      0.05      0.10       789\n",
      "         30       0.00      0.00      0.00       100\n",
      "         31       0.81      0.15      0.25       816\n",
      "         32       0.00      0.00      0.00       192\n",
      "         33       0.00      0.00      0.00       459\n",
      "         34       0.50      0.06      0.10      1684\n",
      "\n",
      "avg / total       0.32      0.04      0.07     20801\n",
      "\n"
     ]
    },
    {
     "name": "stderr",
     "output_type": "stream",
     "text": [
      "/opt/conda/lib/python3.6/site-packages/sklearn/metrics/classification.py:1135: UndefinedMetricWarning: Precision and F-score are ill-defined and being set to 0.0 in labels with no predicted samples.\n",
      "  'precision', 'predicted', average, warn_for)\n",
      "/opt/conda/lib/python3.6/site-packages/sklearn/metrics/classification.py:1137: UndefinedMetricWarning: Recall and F-score are ill-defined and being set to 0.0 in labels with no true samples.\n",
      "  'recall', 'true', average, warn_for)\n"
     ]
    }
   ],
   "source": [
    "parameters = {'vect__stop_words':[None, set(nltk.corpus.stopwords.words('english'))],\n",
    "              # RandomForestClassifier\n",
    "             #'clf__estimator__n_estimators':[10, 20, 50, 100],\n",
    "             #'clf__estimator__criterion':['gini', 'entropy']\n",
    "             'clf__estimator__learning_rate': [0.5, 0.8, 1, 1.2]\n",
    "             }\n",
    "\n",
    "cv = GridSearchCV(pipeline, param_grid=parameters, verbose=10)\n",
    "cv.fit(X_train, y_train)\n",
    "y_preds = cv.predict(X_test)\n",
    "print(classification_report(y_test, y_preds))\n",
    "# RandomForestClassifier was .34 .07 .10\n",
    "# SVC was unable to predict anything in multioutput, but a single classifier got .29 acc"
   ]
  },
  {
   "cell_type": "markdown",
   "metadata": {},
   "source": [
    "### 7. Test your model\n",
    "Show the accuracy, precision, and recall of the tuned model.  \n",
    "\n",
    "Since this project focuses on code quality, process, and  pipelines, there is no minimum performance metric needed to pass. However, make sure to fine tune your models for accuracy, precision and recall to make your project stand out - especially for your portfolio!"
   ]
  },
  {
   "cell_type": "markdown",
   "metadata": {},
   "source": [
    "### 8. Try improving your model further. Here are a few ideas:\n",
    "* try other machine learning algorithms\n",
    "* add other features besides the TF-IDF"
   ]
  },
  {
   "cell_type": "code",
   "execution_count": null,
   "metadata": {},
   "outputs": [],
   "source": []
  },
  {
   "cell_type": "markdown",
   "metadata": {},
   "source": [
    "### 9. Export your model as a pickle file"
   ]
  },
  {
   "cell_type": "code",
   "execution_count": null,
   "metadata": {},
   "outputs": [],
   "source": [
    "\n",
    "filename = 'finalized_model.sav'\n",
    "pickle.dump(cv.best_estimator_, open(filename, 'wb'))"
   ]
  },
  {
   "cell_type": "markdown",
   "metadata": {},
   "source": [
    "### 10. Use this notebook to complete `train.py`\n",
    "Use the template file attached in the Resources folder to write a script that runs the steps above to create a database and export a model based on a new dataset specified by the user."
   ]
  },
  {
   "cell_type": "code",
   "execution_count": null,
   "metadata": {},
   "outputs": [],
   "source": []
  }
 ],
 "metadata": {
  "kernelspec": {
   "display_name": "Python 3",
   "language": "python",
   "name": "python3"
  },
  "language_info": {
   "codemirror_mode": {
    "name": "ipython",
    "version": 3
   },
   "file_extension": ".py",
   "mimetype": "text/x-python",
   "name": "python",
   "nbconvert_exporter": "python",
   "pygments_lexer": "ipython3",
   "version": "3.7.2"
  }
 },
 "nbformat": 4,
 "nbformat_minor": 2
}
